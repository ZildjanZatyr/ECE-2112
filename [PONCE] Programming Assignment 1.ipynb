{
 "cells": [
  {
   "cell_type": "markdown",
   "id": "163a9971-ed0c-449e-888b-849dd041e832",
   "metadata": {},
   "source": [
    "# EXPERIMENT 1 - INTRODUCTION TO PYTHON PROGRAMMING\n",
    "# ALPHABET SOUP PROBLEM: \n",
    "Create a function that takes a string and returns a string with its letters \n",
    "in alphabetical order."
   ]
  },
  {
   "cell_type": "code",
   "execution_count": 70,
   "id": "7ea27cd9-1347-4c2c-9b0e-a36da113ec28",
   "metadata": {},
   "outputs": [
    {
     "name": "stdin",
     "output_type": "stream",
     "text": [
      "Enter a word:  Hi Ma'am Madee :))\n"
     ]
    },
    {
     "name": "stdout",
     "output_type": "stream",
     "text": [
      "   ')):HMMaaadeeim\n"
     ]
    }
   ],
   "source": [
    "def alphabetize_string():\n",
    "    s = input(\"Enter a word: \")\n",
    "    return \"\".join(sorted(s))\n",
    "\n",
    "print(alphabetize_string())"
   ]
  },
  {
   "cell_type": "markdown",
   "id": "ecfe91f9-a956-4585-8214-2498bd4e0335",
   "metadata": {},
   "source": [
    "# EMOTICON PROBLEM:\n",
    "Create a function that changes specific words into emoticons. Given a sentence\r\n",
    "as a string, replace the words smile, grin, sad and mad with their corresponding emoticon:"
   ]
  },
  {
   "cell_type": "code",
   "execution_count": 63,
   "id": "898b96f8-6b25-4524-b3ae-7ee4df2f3b09",
   "metadata": {},
   "outputs": [
    {
     "name": "stdin",
     "output_type": "stream",
     "text": [
      "Enter a sentence:  smile grin sad mad\n"
     ]
    },
    {
     "name": "stdout",
     "output_type": "stream",
     "text": [
      ":) :D :(( >:(\n"
     ]
    }
   ],
   "source": [
    "def emotify():\n",
    "    emotify_lib = {\n",
    "        \"smile\": \":)\",\n",
    "        \"grin\": \":D\",\n",
    "        \"sad\": \":((\",\n",
    "        \"mad\": \">:(\"\n",
    "    }\n",
    "\n",
    "    sentence = input(\"Enter a sentence: \")\n",
    "\n",
    "    for word, emoticon in emotify_lib.items():\n",
    "        sentence = sentence.replace(word, emoticon)\n",
    "    return sentence\n",
    "\n",
    "print(emotify())"
   ]
  },
  {
   "cell_type": "markdown",
   "id": "239732d1-8e74-45cd-843d-77ac9dcf4d1a",
   "metadata": {},
   "source": [
    "# UNPACKING LIST PROBLEM:\n",
    "Unpack the list and write your code here into three variables, first, \n",
    "middle, and last, with middle being everything in between the first and last element. Then print all thre \r\n",
    "variables."
   ]
  },
  {
   "cell_type": "code",
   "execution_count": 55,
   "id": "bd877fbf-14e3-49ab-8917-c817c219b354",
   "metadata": {},
   "outputs": [
    {
     "name": "stdin",
     "output_type": "stream",
     "text": [
      "Enter a list (separated by spaces):  1 2 3 4 5\n"
     ]
    },
    {
     "name": "stdout",
     "output_type": "stream",
     "text": [
      "First: 1\n",
      "Middle: ['2', '3', '4']\n",
      "Last: 5\n"
     ]
    }
   ],
   "source": [
    "def unpack_list():\n",
    "    user_input = input(\"Enter a list (separated by spaces): \")\n",
    "    elements = user_input.split()\n",
    "\n",
    "    if len(elements) < 3:\n",
    "        print(\"Please enter at least 3 elements\")\n",
    "        return\n",
    "\n",
    "    first, *middle, last = elements\n",
    "\n",
    "    print(\"First:\", first)\n",
    "    print(\"Middle:\", middle)\n",
    "    print(\"Last:\", last)\n",
    "\n",
    "unpack_list()"
   ]
  },
  {
   "cell_type": "code",
   "execution_count": null,
   "id": "52dad582-a840-4599-b41a-7a6040a51ba8",
   "metadata": {},
   "outputs": [],
   "source": []
  }
 ],
 "metadata": {
  "kernelspec": {
   "display_name": "Python 3 (ipykernel)",
   "language": "python",
   "name": "python3"
  },
  "language_info": {
   "codemirror_mode": {
    "name": "ipython",
    "version": 3
   },
   "file_extension": ".py",
   "mimetype": "text/x-python",
   "name": "python",
   "nbconvert_exporter": "python",
   "pygments_lexer": "ipython3",
   "version": "3.12.4"
  }
 },
 "nbformat": 4,
 "nbformat_minor": 5
}
